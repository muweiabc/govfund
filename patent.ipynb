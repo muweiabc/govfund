{
 "cells": [
  {
   "cell_type": "code",
   "execution_count": 1,
   "id": "224072d6",
   "metadata": {},
   "outputs": [],
   "source": [
    "import pandas as pd\n",
    "\n",
    "invest_df = pd.read_excel('invest.xlsx')"
   ]
  },
  {
   "cell_type": "code",
   "execution_count": 2,
   "id": "1fb7f994",
   "metadata": {},
   "outputs": [],
   "source": [
    "col = invest_df['融资主体'].head(5).to_list()\n",
    "or_query = \" OR \".join([f'\"{value}\"' for value in col])\n"
   ]
  },
  {
   "cell_type": "code",
   "execution_count": 3,
   "id": "52270f1f",
   "metadata": {},
   "outputs": [
    {
     "name": "stdout",
     "output_type": "stream",
     "text": [
      "\"航天智造科技股份有限公司\" OR \"航天智造科技股份有限公司\" OR \"北京九天行歌航天科技有限公司\" OR \"深圳市智安新能源科技有限公司\" OR \"北京谛声科技有限责任公司\"\n"
     ]
    }
   ],
   "source": [
    "print(or_query)"
   ]
  }
 ],
 "metadata": {
  "kernelspec": {
   "display_name": "kaggle",
   "language": "python",
   "name": "python3"
  },
  "language_info": {
   "codemirror_mode": {
    "name": "ipython",
    "version": 3
   },
   "file_extension": ".py",
   "mimetype": "text/x-python",
   "name": "python",
   "nbconvert_exporter": "python",
   "pygments_lexer": "ipython3",
   "version": "3.10.13"
  }
 },
 "nbformat": 4,
 "nbformat_minor": 5
}
