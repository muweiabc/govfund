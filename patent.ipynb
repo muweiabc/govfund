{
 "cells": [
  {
   "cell_type": "code",
   "execution_count": 2,
   "id": "224072d6",
   "metadata": {},
   "outputs": [],
   "source": [
    "import pandas as pd\n",
    "\n",
    "invest_df = pd.read_excel('invest.xlsx')"
   ]
  },
  {
   "cell_type": "code",
   "execution_count": 3,
   "id": "253898ec",
   "metadata": {},
   "outputs": [
    {
     "data": {
      "text/html": [
       "<div>\n",
       "<style scoped>\n",
       "    .dataframe tbody tr th:only-of-type {\n",
       "        vertical-align: middle;\n",
       "    }\n",
       "\n",
       "    .dataframe tbody tr th {\n",
       "        vertical-align: top;\n",
       "    }\n",
       "\n",
       "    .dataframe thead th {\n",
       "        text-align: right;\n",
       "    }\n",
       "</style>\n",
       "<table border=\"1\" class=\"dataframe\">\n",
       "  <thead>\n",
       "    <tr style=\"text-align: right;\">\n",
       "      <th></th>\n",
       "      <th>专利类型</th>\n",
       "      <th>申请人</th>\n",
       "      <th>申请年份</th>\n",
       "      <th>公开公告年份</th>\n",
       "      <th>被引证次数</th>\n",
       "    </tr>\n",
       "  </thead>\n",
       "  <tbody>\n",
       "    <tr>\n",
       "      <th>0</th>\n",
       "      <td>发明申请</td>\n",
       "      <td>吴正德</td>\n",
       "      <td>1999.0</td>\n",
       "      <td>2020.0</td>\n",
       "      <td>NaN</td>\n",
       "    </tr>\n",
       "    <tr>\n",
       "      <th>1</th>\n",
       "      <td>发明申请</td>\n",
       "      <td>吴正德</td>\n",
       "      <td>1999.0</td>\n",
       "      <td>2020.0</td>\n",
       "      <td>NaN</td>\n",
       "    </tr>\n",
       "    <tr>\n",
       "      <th>2</th>\n",
       "      <td>发明申请</td>\n",
       "      <td>吴正德</td>\n",
       "      <td>1999.0</td>\n",
       "      <td>2020.0</td>\n",
       "      <td>NaN</td>\n",
       "    </tr>\n",
       "    <tr>\n",
       "      <th>3</th>\n",
       "      <td>发明申请</td>\n",
       "      <td>吴正德</td>\n",
       "      <td>1999.0</td>\n",
       "      <td>2020.0</td>\n",
       "      <td>NaN</td>\n",
       "    </tr>\n",
       "    <tr>\n",
       "      <th>4</th>\n",
       "      <td>发明申请</td>\n",
       "      <td>吴正德</td>\n",
       "      <td>1999.0</td>\n",
       "      <td>2020.0</td>\n",
       "      <td>NaN</td>\n",
       "    </tr>\n",
       "  </tbody>\n",
       "</table>\n",
       "</div>"
      ],
      "text/plain": [
       "   专利类型  申请人    申请年份  公开公告年份  被引证次数\n",
       "0  发明申请  吴正德  1999.0  2020.0    NaN\n",
       "1  发明申请  吴正德  1999.0  2020.0    NaN\n",
       "2  发明申请  吴正德  1999.0  2020.0    NaN\n",
       "3  发明申请  吴正德  1999.0  2020.0    NaN\n",
       "4  发明申请  吴正德  1999.0  2020.0    NaN"
      ]
     },
     "execution_count": 3,
     "metadata": {},
     "output_type": "execute_result"
    }
   ],
   "source": [
    "df24 = pd.read_csv('data/中国专利数据库2020年.csv', usecols=['专利类型','申请人','申请年份','公开公告年份','被引证次数'])\n",
    "df24.head()"
   ]
  },
  {
   "cell_type": "code",
   "execution_count": 5,
   "id": "9f797d0b",
   "metadata": {},
   "outputs": [
    {
     "name": "stdout",
     "output_type": "stream",
     "text": [
      "被引证次数\n",
      "1.0      670257\n",
      "2.0      417259\n",
      "3.0      189242\n",
      "4.0      117408\n",
      "5.0       69444\n",
      "          ...  \n",
      "75.0          1\n",
      "173.0         1\n",
      "146.0         1\n",
      "92.0          1\n",
      "81.0          1\n",
      "Name: count, Length: 115, dtype: int64\n"
     ]
    }
   ],
   "source": [
    "print(df24['被引证次数'].value_counts())"
   ]
  },
  {
   "cell_type": "code",
   "execution_count": 12,
   "id": "2f070a79",
   "metadata": {},
   "outputs": [],
   "source": [
    "nan_ratio = df24['被引证次数'].isna().mean()\n"
   ]
  },
  {
   "cell_type": "code",
   "execution_count": 9,
   "id": "71009bad",
   "metadata": {},
   "outputs": [
    {
     "data": {
      "text/plain": [
       "(4852120, 5)"
      ]
     },
     "execution_count": 9,
     "metadata": {},
     "output_type": "execute_result"
    }
   ],
   "source": [
    "df24.shape"
   ]
  }
 ],
 "metadata": {
  "kernelspec": {
   "display_name": "kaggle",
   "language": "python",
   "name": "python3"
  },
  "language_info": {
   "codemirror_mode": {
    "name": "ipython",
    "version": 3
   },
   "file_extension": ".py",
   "mimetype": "text/x-python",
   "name": "python",
   "nbconvert_exporter": "python",
   "pygments_lexer": "ipython3",
   "version": "3.10.13"
  }
 },
 "nbformat": 4,
 "nbformat_minor": 5
}
