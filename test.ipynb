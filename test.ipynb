{
 "cells": [
  {
   "cell_type": "code",
   "execution_count": 1,
   "id": "4881a3ef",
   "metadata": {},
   "outputs": [],
   "source": [
    "import pandas as pd\n",
    "import linearmodels as lm\n",
    "\n",
    "\n",
    "        \n"
   ]
  },
  {
   "cell_type": "code",
   "execution_count": 3,
   "id": "c801be31",
   "metadata": {},
   "outputs": [],
   "source": [
    "df = pd.read_excel('2000-2023年各省份城镇化水平.xlsx',sheet_name='原始版本',index_col=0)"
   ]
  },
  {
   "cell_type": "code",
   "execution_count": 12,
   "id": "94ba541a",
   "metadata": {},
   "outputs": [
    {
     "name": "stderr",
     "output_type": "stream",
     "text": [
      "/var/folders/zy/nptlsrmj6135ymrf1y08xr5r0000gn/T/ipykernel_27512/3670136400.py:2: FutureWarning: A value is trying to be set on a copy of a DataFrame or Series through chained assignment using an inplace method.\n",
      "The behavior will change in pandas 3.0. This inplace method will never work because the intermediate object on which we are setting values always behaves as a copy.\n",
      "\n",
      "For example, when doing 'df[col].method(value, inplace=True)', try using 'df.method({col: value}, inplace=True)' or df[col] = df[col].method(value) instead, to perform the operation inplace on the original object.\n",
      "\n",
      "\n",
      "  df['省份名称'].replace('内蒙古自治区','内蒙古',inplace=True)\n",
      "/var/folders/zy/nptlsrmj6135ymrf1y08xr5r0000gn/T/ipykernel_27512/3670136400.py:3: FutureWarning: A value is trying to be set on a copy of a DataFrame or Series through chained assignment using an inplace method.\n",
      "The behavior will change in pandas 3.0. This inplace method will never work because the intermediate object on which we are setting values always behaves as a copy.\n",
      "\n",
      "For example, when doing 'df[col].method(value, inplace=True)', try using 'df.method({col: value}, inplace=True)' or df[col] = df[col].method(value) instead, to perform the operation inplace on the original object.\n",
      "\n",
      "\n",
      "  df['省份名称'].replace('西藏自治区','西藏',inplace=True)\n",
      "/var/folders/zy/nptlsrmj6135ymrf1y08xr5r0000gn/T/ipykernel_27512/3670136400.py:4: FutureWarning: A value is trying to be set on a copy of a DataFrame or Series through chained assignment using an inplace method.\n",
      "The behavior will change in pandas 3.0. This inplace method will never work because the intermediate object on which we are setting values always behaves as a copy.\n",
      "\n",
      "For example, when doing 'df[col].method(value, inplace=True)', try using 'df.method({col: value}, inplace=True)' or df[col] = df[col].method(value) instead, to perform the operation inplace on the original object.\n",
      "\n",
      "\n",
      "  df['省份名称'].replace('宁夏回族自治区','宁夏',inplace=True)\n",
      "/var/folders/zy/nptlsrmj6135ymrf1y08xr5r0000gn/T/ipykernel_27512/3670136400.py:5: FutureWarning: A value is trying to be set on a copy of a DataFrame or Series through chained assignment using an inplace method.\n",
      "The behavior will change in pandas 3.0. This inplace method will never work because the intermediate object on which we are setting values always behaves as a copy.\n",
      "\n",
      "For example, when doing 'df[col].method(value, inplace=True)', try using 'df.method({col: value}, inplace=True)' or df[col] = df[col].method(value) instead, to perform the operation inplace on the original object.\n",
      "\n",
      "\n",
      "  df['省份名称'].replace('新疆维吾尔自治区','新疆',inplace=True)\n",
      "/var/folders/zy/nptlsrmj6135ymrf1y08xr5r0000gn/T/ipykernel_27512/3670136400.py:6: FutureWarning: A value is trying to be set on a copy of a DataFrame or Series through chained assignment using an inplace method.\n",
      "The behavior will change in pandas 3.0. This inplace method will never work because the intermediate object on which we are setting values always behaves as a copy.\n",
      "\n",
      "For example, when doing 'df[col].method(value, inplace=True)', try using 'df.method({col: value}, inplace=True)' or df[col] = df[col].method(value) instead, to perform the operation inplace on the original object.\n",
      "\n",
      "\n",
      "  df['省份名称'].replace('广西壮族自治区','广西',inplace=True)\n"
     ]
    }
   ],
   "source": [
    "df = pd.read_excel('分省份按三次产业分从业人员数（就业人员数）1985-2023年数据.xlsx')\n",
    "df['省份名称'].replace('内蒙古自治区','内蒙古',inplace=True)\n",
    "df['省份名称'].replace('西藏自治区','西藏',inplace=True)\n",
    "df['省份名称'].replace('宁夏回族自治区','宁夏',inplace=True)\n",
    "df['省份名称'].replace('新疆维吾尔自治区','新疆',inplace=True)\n",
    "df['省份名称'].replace('广西壮族自治区','广西',inplace=True)\n",
    "df.drop(columns=['省份编码'],inplace=True)\n",
    "df = df[df['年度标识']>=2000]\n",
    "df.to_excel('就业人口.xlsx')"
   ]
  },
  {
   "cell_type": "code",
   "execution_count": 18,
   "id": "3daf4ffe",
   "metadata": {},
   "outputs": [],
   "source": [
    "df = pd.read_excel('govfund_analysis_results.xlsx', sheet_name='政府投资基金投资数据')\n",
    "df['省份'] = df['地区'].str.split('|').str[1]\n",
    "with pd.ExcelWriter('govfund_analysis_results.xlsx', mode='a', engine='openpyxl') as writer:\n",
    "    df.to_excel(writer, sheet_name='分省政府投资基金')"
   ]
  }
 ],
 "metadata": {
  "kernelspec": {
   "display_name": "kaggle",
   "language": "python",
   "name": "python3"
  },
  "language_info": {
   "codemirror_mode": {
    "name": "ipython",
    "version": 3
   },
   "file_extension": ".py",
   "mimetype": "text/x-python",
   "name": "python",
   "nbconvert_exporter": "python",
   "pygments_lexer": "ipython3",
   "version": "3.10.13"
  }
 },
 "nbformat": 4,
 "nbformat_minor": 5
}
