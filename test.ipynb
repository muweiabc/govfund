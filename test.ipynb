{
 "cells": [
  {
   "cell_type": "code",
   "execution_count": null,
   "id": "4881a3ef",
   "metadata": {},
   "outputs": [],
   "source": [
    "import pandas as pd\n",
    "import linearmodels as lm\n",
    "\n",
    "df = pd.read_excel('gdp.xlsx')\n",
    "pgdp = df['人均地区生产总值/元']\n",
    "province = df['省级']\n",
    "\n",
    "y = []\n",
    "y.append(pgdp)\n",
    "x=[]\n",
    "\n",
    "\n",
    "def get_fund(province, year, df):\n",
    "    for idx, row in df.iterrows():\n",
    "        if row['省级'] == province and row['年份'] == year:\n",
    "            return row['基金数量']\n",
    "        \n"
   ]
  },
  {
   "cell_type": "code",
   "execution_count": 2,
   "id": "c801be31",
   "metadata": {},
   "outputs": [
    {
     "data": {
      "text/plain": [
       "'20'"
      ]
     },
     "execution_count": 2,
     "metadata": {},
     "output_type": "execute_result"
    }
   ],
   "source": [
    "a=20\n",
    "str(a)"
   ]
  }
 ],
 "metadata": {
  "kernelspec": {
   "display_name": "kaggle",
   "language": "python",
   "name": "python3"
  },
  "language_info": {
   "codemirror_mode": {
    "name": "ipython",
    "version": 3
   },
   "file_extension": ".py",
   "mimetype": "text/x-python",
   "name": "python",
   "nbconvert_exporter": "python",
   "pygments_lexer": "ipython3",
   "version": "3.10.13"
  }
 },
 "nbformat": 4,
 "nbformat_minor": 5
}
