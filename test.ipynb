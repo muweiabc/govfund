{
 "cells": [
  {
   "cell_type": "code",
   "execution_count": null,
   "id": "4881a3ef",
   "metadata": {},
   "outputs": [],
   "source": [
    "import pandas as pd\n",
    "import linearmodels as lm\n",
    "\n",
    "df = pd.read_excel('gdp.xlsx')\n",
    "pgdp = df['人均地区生产总值/元']\n",
    "province = df['省级']\n",
    "\n",
    "y = []\n",
    "y.append(pgdp)\n",
    "x=[]\n",
    "\n",
    "\n",
    "def get_fund(province, year, df):\n",
    "    for idx, row in df.iterrows():\n",
    "        if row['省级'] == province and row['年份'] == year:\n",
    "            return row['基金数量']\n",
    "        \n"
   ]
  }
 ],
 "metadata": {
  "language_info": {
   "name": "python"
  }
 },
 "nbformat": 4,
 "nbformat_minor": 5
}
